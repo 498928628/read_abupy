{
 "cells": [
  {
   "cell_type": "code",
   "execution_count": 10,
   "metadata": {},
   "outputs": [
    {
     "name": "stdout",
     "output_type": "stream",
     "text": [
      "[1, 4, 9, 16, 25]\n",
      "15\n",
      "[1, 3, 5]\n"
     ]
    }
   ],
   "source": [
    "#map\n",
    "#操作对象\n",
    "def square(x):\n",
    "    return x ** 2\n",
    "print(list(map(square,[1,2,3,4,5])))\n",
    "\n",
    "#reduce\n",
    "#对象的连续操作\n",
    "from functools import reduce\n",
    "def add(x,y):\n",
    "    return x + y\n",
    "relist = reduce(add,[1,2,3,4,5])\n",
    "print(relist)\n",
    "\n",
    "#filter()\n",
    "#筛选对象\n",
    "def is_odd(n):\n",
    "    return n % 2 == 1\n",
    "newlist = filter(is_odd,[1,2,3,4,5,6])\n",
    "print(list(newlist))\n",
    "\n",
    "#访问控制\n",
    "#__私有,_受保护,__保留__\n",
    "\n",
    "#是否支持迭代查询: collections.Iterable\n",
    "\n",
    "#封装,继承,多态\n",
    "# *list, **dict\n",
    "\n",
    "\n",
    "\n"
   ]
  },
  {
   "cell_type": "code",
   "execution_count": 4,
   "metadata": {},
   "outputs": [
    {
     "name": "stdout",
     "output_type": "stream",
     "text": [
      "子类实现父类的抽象方法\n"
     ]
    }
   ],
   "source": [
    "#abstract 抽象\n",
    "from abc import ABC, abstractmethod\n",
    "\n",
    "class Foo(ABC):\n",
    "    @abstractmethod\n",
    "    def fun(self):\n",
    "        \"\"\"\n",
    "        你需要在子类中实现该方法, 子类才允许被实例化\n",
    "        \"\"\"\n",
    "\n",
    "\n",
    "class SubFoo(Foo):\n",
    "\n",
    "    def fun(self):\n",
    "        print(\"子类实现父类的抽象方法\")\n",
    "\n",
    "\n",
    "if __name__ == \"__main__\":\n",
    "\n",
    "    sf = SubFoo()\n",
    "    sf.fun()"
   ]
  },
  {
   "cell_type": "code",
   "execution_count": 5,
   "metadata": {},
   "outputs": [],
   "source": [
    "# 静态方法,类方法与属性\n",
    "#类属性,不可赋值 \n",
    "#@property\n",
    "\n",
    "#类方法,不需要实例化,cls\n",
    "#@classmethod\n",
    "\n",
    "#静态方法,不需要实例化,与普通函数一样只是封装在类里,不需要cls\n",
    "#@staticmethod"
   ]
  },
  {
   "cell_type": "code",
   "execution_count": 12,
   "metadata": {},
   "outputs": [
    {
     "name": "stdout",
     "output_type": "stream",
     "text": [
      "(1, 2, 3)\n",
      "(1, 3, 2)\n",
      "(2, 1, 3)\n",
      "(2, 3, 1)\n",
      "(3, 1, 2)\n",
      "(3, 2, 1)\n",
      "(1, 2)\n",
      "(1, 3)\n",
      "(2, 3)\n",
      "(1, 1)\n",
      "(1, 2)\n",
      "(1, 3)\n",
      "(2, 2)\n",
      "(2, 3)\n",
      "(3, 3)\n",
      "('a', 'c', 'e')\n",
      "('a', 'c', 'f')\n",
      "('a', 'd', 'e')\n",
      "('a', 'd', 'f')\n",
      "('a', '-', 'e')\n",
      "('a', '-', 'f')\n",
      "('b', 'c', 'e')\n",
      "('b', 'c', 'f')\n",
      "('b', 'd', 'e')\n",
      "('b', 'd', 'f')\n",
      "('b', '-', 'e')\n",
      "('b', '-', 'f')\n",
      "('+', 'c', 'e')\n",
      "('+', 'c', 'f')\n",
      "('+', 'd', 'e')\n",
      "('+', 'd', 'f')\n",
      "('+', '-', 'e')\n",
      "('+', '-', 'f')\n"
     ]
    }
   ],
   "source": [
    "#2.4 性能效率 P38\n",
    "#2.4.1 itertools(iterate迭代)\n",
    "\n",
    "#permulations()函数,考虑顺序组合元素\n",
    "import itertools \n",
    "items = [1,2,3]\n",
    "for item in itertools.permutations(items):\n",
    "    print(item)\n",
    "    \n",
    "#combinations()函数,不放回的两两组合\n",
    "for item in itertools.combinations(items,2):\n",
    "    print(item)\n",
    "    \n",
    "#combinations_with_replacement()函数,放回的两两组合\n",
    "for item in itertools.combinations_with_replacement(items,2):\n",
    "    print(item)\n",
    "    \n",
    "#product()函数,笛卡尔积\n",
    "#多个序列的排列组合\n",
    "#组合参数寻找最优参数\n",
    "ab = ['a','b','+']\n",
    "cd = ['c','d','-']\n",
    "ef = ['e','f']\n",
    "for item in itertools.product(ab,cd,ef):\n",
    "    print(item)"
   ]
  },
  {
   "cell_type": "code",
   "execution_count": null,
   "metadata": {},
   "outputs": [],
   "source": []
  }
 ],
 "metadata": {
  "kernelspec": {
   "display_name": "Python 3",
   "language": "python",
   "name": "python3"
  },
  "language_info": {
   "codemirror_mode": {
    "name": "ipython",
    "version": 3
   },
   "file_extension": ".py",
   "mimetype": "text/x-python",
   "name": "python",
   "nbconvert_exporter": "python",
   "pygments_lexer": "ipython3",
   "version": "3.7.0"
  }
 },
 "nbformat": 4,
 "nbformat_minor": 2
}
