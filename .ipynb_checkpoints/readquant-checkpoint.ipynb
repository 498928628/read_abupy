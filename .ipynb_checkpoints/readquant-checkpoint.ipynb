{
 "cells": [
  {
   "cell_type": "code",
   "execution_count": 10,
   "metadata": {},
   "outputs": [
    {
     "name": "stdout",
     "output_type": "stream",
     "text": [
      "[1, 4, 9, 16, 25]\n",
      "15\n",
      "[1, 3, 5]\n"
     ]
    }
   ],
   "source": [
    "#map\n",
    "#操作对象\n",
    "def square(x):\n",
    "    return x ** 2\n",
    "print(list(map(square,[1,2,3,4,5])))\n",
    "\n",
    "#reduce\n",
    "#对象的连续操作\n",
    "from functools import reduce\n",
    "def add(x,y):\n",
    "    return x + y\n",
    "relist = reduce(add,[1,2,3,4,5])\n",
    "print(relist)\n",
    "\n",
    "#filter()\n",
    "#筛选对象\n",
    "def is_odd(n):\n",
    "    return n % 2 == 1\n",
    "newlist = filter(is_odd,[1,2,3,4,5,6])\n",
    "print(list(newlist))\n",
    "\n",
    "#访问控制\n",
    "#__私有,_受保护,__保留__\n",
    "\n",
    "#是否支持迭代查询: collections.Iterable\n",
    "\n",
    "#封装,继承,多态\n",
    "# *list, **dict\n",
    "\n",
    "\n",
    "\n"
   ]
  },
  {
   "cell_type": "code",
   "execution_count": 4,
   "metadata": {},
   "outputs": [
    {
     "name": "stdout",
     "output_type": "stream",
     "text": [
      "子类实现父类的抽象方法\n"
     ]
    }
   ],
   "source": [
    "#abstract 抽象\n",
    "from abc import ABC, abstractmethod\n",
    "\n",
    "class Foo(ABC):\n",
    "    @abstractmethod\n",
    "    def fun(self):\n",
    "        \"\"\"\n",
    "        你需要在子类中实现该方法, 子类才允许被实例化\n",
    "        \"\"\"\n",
    "\n",
    "\n",
    "class SubFoo(Foo):\n",
    "\n",
    "    def fun(self):\n",
    "        print(\"子类实现父类的抽象方法\")\n",
    "\n",
    "\n",
    "if __name__ == \"__main__\":\n",
    "\n",
    "    sf = SubFoo()\n",
    "    sf.fun()"
   ]
  },
  {
   "cell_type": "code",
   "execution_count": 5,
   "metadata": {},
   "outputs": [],
   "source": [
    "# 静态方法,类方法与属性\n",
    "#类属性,不可赋值 \n",
    "#@property\n",
    "\n",
    "#类方法,不需要实例化,cls\n",
    "#@classmethod\n",
    "\n",
    "#静态方法,不需要实例化,与普通函数一样只是封装在类里,不需要cls\n",
    "#@staticmethod"
   ]
  },
  {
   "cell_type": "code",
   "execution_count": 12,
   "metadata": {},
   "outputs": [
    {
     "name": "stdout",
     "output_type": "stream",
     "text": [
      "(1, 2, 3)\n",
      "(1, 3, 2)\n",
      "(2, 1, 3)\n",
      "(2, 3, 1)\n",
      "(3, 1, 2)\n",
      "(3, 2, 1)\n",
      "(1, 2)\n",
      "(1, 3)\n",
      "(2, 3)\n",
      "(1, 1)\n",
      "(1, 2)\n",
      "(1, 3)\n",
      "(2, 2)\n",
      "(2, 3)\n",
      "(3, 3)\n",
      "('a', 'c', 'e')\n",
      "('a', 'c', 'f')\n",
      "('a', 'd', 'e')\n",
      "('a', 'd', 'f')\n",
      "('a', '-', 'e')\n",
      "('a', '-', 'f')\n",
      "('b', 'c', 'e')\n",
      "('b', 'c', 'f')\n",
      "('b', 'd', 'e')\n",
      "('b', 'd', 'f')\n",
      "('b', '-', 'e')\n",
      "('b', '-', 'f')\n",
      "('+', 'c', 'e')\n",
      "('+', 'c', 'f')\n",
      "('+', 'd', 'e')\n",
      "('+', 'd', 'f')\n",
      "('+', '-', 'e')\n",
      "('+', '-', 'f')\n"
     ]
    }
   ],
   "source": [
    "#2.4 性能效率 P38\n",
    "#2.4.1 itertools(iterate迭代)\n",
    "\n",
    "#permulations()函数,考虑顺序组合元素\n",
    "import itertools \n",
    "items = [1,2,3]\n",
    "for item in itertools.permutations(items):\n",
    "    print(item)\n",
    "    \n",
    "#combinations()函数,不放回的两两组合\n",
    "for item in itertools.combinations(items,2):\n",
    "    print(item)\n",
    "    \n",
    "#combinations_with_replacement()函数,放回的两两组合\n",
    "for item in itertools.combinations_with_replacement(items,2):\n",
    "    print(item)\n",
    "    \n",
    "#product()函数,笛卡尔积\n",
    "#多个序列的排列组合\n",
    "#组合参数寻找最优参数\n",
    "ab = ['a','b','+']\n",
    "cd = ['c','d','-']\n",
    "ef = ['e','f']\n",
    "for item in itertools.product(ab,cd,ef):\n",
    "    print(item)"
   ]
  },
  {
   "cell_type": "code",
   "execution_count": 14,
   "metadata": {},
   "outputs": [
    {
     "data": {
      "text/plain": [
       "[]"
      ]
     },
     "execution_count": 14,
     "metadata": {},
     "output_type": "execute_result"
    }
   ],
   "source": [
    "#多进程VS多线程\n",
    "\n",
    "#多任务并行方式:\n",
    "#1.启动多个进程(计算密集)\n",
    "#使用多进程(ProcessPoolExecutor)\n",
    "result = {}\n",
    "def when_done(r):\n",
    "    # when_done在主进程中运行\n",
    "    result.append(r.result())\n",
    "    # with class_a() as a: 上下文管理器\n",
    "    with ProcessPoolExecutor() as pool:\n",
    "        for keep_stock_threshould,buy_change_threshold in itertools.product(keep_stock_list,buy_change_list):\n",
    "            future_result = pool.submit(calc, keep_stock_threshold,buy_change_threshold)\n",
    "            #当进程完成任务即calc运行结束后的回调函数\n",
    "            future_result.add_done_callback(when_done)\n",
    "sorted(result)[::-1][:10]\n",
    "    \n",
    "#2.启动多个线程(io密集,并发阻塞)\n",
    "#3.启动多个进程,每个进程启动多个线程\n",
    "\n"
   ]
  },
  {
   "cell_type": "code",
   "execution_count": 1,
   "metadata": {},
   "outputs": [],
   "source": [
    "#上下文管理器\n"
   ]
  },
  {
   "cell_type": "code",
   "execution_count": 2,
   "metadata": {},
   "outputs": [],
   "source": [
    "#使用编译库提高性能\n"
   ]
  },
  {
   "cell_type": "code",
   "execution_count": 16,
   "metadata": {},
   "outputs": [
    {
     "name": "stdout",
     "output_type": "stream",
     "text": [
      "6.08 µs ± 22.3 ns per loop (mean ± std. dev. of 7 runs, 100000 loops each)\n",
      "[3. 3. 3. 3. 3.]\n"
     ]
    }
   ],
   "source": [
    "import numpy as np\n",
    "# normal_list = range(10000)\n",
    "# %timeit [i ** 2 for i in normal_list]\n",
    "\n",
    "# np_list = np.arange(10000)\n",
    "# %timeit np_list**2\n",
    "\n",
    "# np_list2 = np.ones(5) * 3\n",
    "# print(np_list2)"
   ]
  },
  {
   "cell_type": "code",
   "execution_count": 3,
   "metadata": {},
   "outputs": [
    {
     "name": "stdout",
     "output_type": "stream",
     "text": [
      "(200, 504)\n",
      "[[ 0.47681236 -1.17300499  0.03555481 -0.15759263 -1.02994753]]\n",
      "[[ 0.47681236 -1.17300499  0.03555481 ...  1.35100771 -0.11805434\n",
      "   0.26392669]\n",
      " [-1.81614704  0.41678373  0.47592102 ...  0.2252981  -0.14332353\n",
      "  -0.5171139 ]\n",
      " [ 1.538448    1.75344404 -0.71159875 ...  0.71526733 -2.06433181\n",
      "  -0.40709135]\n",
      " ...\n",
      " [ 1.61542773 -1.18481053 -0.53136141 ...  0.23557109 -0.6708576\n",
      "   1.5369529 ]\n",
      " [-0.82786969 -0.67192146 -1.00362484 ... -1.33617281  0.41059094\n",
      "  -0.68356687]\n",
      " [ 1.16163652 -0.29269979  1.65093774 ...  0.24859038 -1.64739672\n",
      "   0.24349331]]\n"
     ]
    }
   ],
   "source": [
    "import numpy as np\n",
    "np_list = np.arange(10000)\n",
    "#np array常用初始化方式\n",
    "# 100个0\n",
    "np.zeros(100)\n",
    "#shape: 3行2列全是0\n",
    "np.zeros((3,2))\n",
    "#shape: 3行2列全是1\n",
    "np.ones((3,2))\n",
    "#shape: x=2,y=3,z=3 值随机\n",
    "np.empty((2,3,3))\n",
    "#初始化序列与np_list一样的shape,值全为1\n",
    "np.ones_like(np_list)\n",
    "#初始化序列与np_list一样的shape,值全为0\n",
    "np.zeros_like(np_list)\n",
    "#eye()得到对角线全为1的单位矩阵\n",
    "np.eye(3)\n",
    "#可以将普通list作为参数,通过np.array来初始化np array\n",
    "data = [[1,2,3,4],[5,6,7,8]]\n",
    "arr_np = np.array(data)\n",
    "arr_np\n",
    "#0~~1之间,等间隔生成10个数\n",
    "np.linspace(0,1,10)\n",
    "\n",
    "#例\n",
    "stock_cnt = 200\n",
    "view_days = 504\n",
    "stock_day_change = np.random.standard_normal((stock_cnt,view_days))\n",
    "print(stock_day_change.shape)\n",
    "#注意: NumPy 内部实现的机制全部是引用操作,不使用copy()的时候得出的结果会丢失切片部分\n",
    "print(stock_day_change[0:1,:5])\n",
    "print(stock_day_change)"
   ]
  },
  {
   "cell_type": "code",
   "execution_count": 4,
   "metadata": {},
   "outputs": [],
   "source": [
    "#3.1.4 数据的转换与规整\n",
    "#保留两位小数 np.around(,2)\n",
    "#使用copy()函数的目的是不修改原始序列\n",
    "#np.nan_to_num()用0来填充na\n",
    "\n",
    "#3.1.6 通用序列函数\n",
    "#1.np.all() 判断序列中所有元素是否是true\n",
    "#2.np.any() 判断序列中是否有元素是true\n",
    "#3.maximun()与minimun() 对两个序列的元素两两比较 结果集大,小\n",
    "#4.np.unique() 序列中唯一不重复的值组成新序列\n",
    "#5. np.diff() 前后两个临近数值进行减法运算\n",
    "#6. np.where() 条件表达式 参数1,参数2 参数3\n",
    "\n",
    "#3.1.7 数据本地序列化操作\n"
   ]
  },
  {
   "cell_type": "code",
   "execution_count": null,
   "metadata": {},
   "outputs": [],
   "source": [
    "#3.2 基础统计概念与函数的使用\n"
   ]
  }
 ],
 "metadata": {
  "kernelspec": {
   "display_name": "Python 3",
   "language": "python",
   "name": "python3"
  },
  "language_info": {
   "codemirror_mode": {
    "name": "ipython",
    "version": 3
   },
   "file_extension": ".py",
   "mimetype": "text/x-python",
   "name": "python",
   "nbconvert_exporter": "python",
   "pygments_lexer": "ipython3",
   "version": "3.7.0"
  }
 },
 "nbformat": 4,
 "nbformat_minor": 2
}
